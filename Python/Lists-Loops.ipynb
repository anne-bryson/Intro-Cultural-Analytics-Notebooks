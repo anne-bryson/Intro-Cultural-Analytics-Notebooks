{
 "cells": [
  {
   "cell_type": "markdown",
   "metadata": {},
   "source": [
    "# Lists & For Loops"
   ]
  },
  {
   "cell_type": "markdown",
   "metadata": {},
   "source": [
    "For this lesson, we're again going to draw on Anelise Shrout's [Bellevue Almshouse data](https://docs.google.com/spreadsheets/d/1uf8uaqicknrn0a6STWrVfVMScQQMtzYf5I_QyhB9r7I/edit#gid=2057113261)."
   ]
  },
  {
   "cell_type": "markdown",
   "metadata": {},
   "source": [
    "<img src=\"../images/bellevue-almshouse-screenshot.png\" width=100%>"
   ]
  },
  {
   "cell_type": "markdown",
   "metadata": {},
   "source": [
    "# Lists"
   ]
  },
  {
   "cell_type": "markdown",
   "metadata": {},
   "source": [
    "Last lesson, when we worked with conditionals, we made a bunch of individual variables about each individual Irish immigrant. Often it's much more advantageous, however, to create a *collection* of values and hold them in a single place. One of the most common Python data collections is called a \"list.\" For example, rather than all these separate variables..."
   ]
  },
  {
   "cell_type": "markdown",
   "metadata": {},
   "source": [
    "### Person 1"
   ]
  },
  {
   "cell_type": "code",
   "execution_count": 3,
   "metadata": {},
   "outputs": [],
   "source": [
    "person1_name = 'Mary Gallagher'\n",
    "person1_age = 28\n",
    "person1_disease = 'recent emigrant'\n",
    "person1_profession = 'married'\n",
    "person1_gender = 'f'\n",
    "person1_child_status = 'Child Alana 10 days'"
   ]
  },
  {
   "cell_type": "markdown",
   "metadata": {},
   "source": [
    "### Person 2"
   ]
  },
  {
   "cell_type": "code",
   "execution_count": 4,
   "metadata": {},
   "outputs": [],
   "source": [
    "person2_name = 'John Sanin(?)'\n",
    "person2_age = 19\n",
    "person2_disease = 'recent emigrant'\n",
    "person2_profession = 'laborer'\n",
    "person2_gender = 'm'\n",
    "person2_child_status = 'Catherine 2 mo'"
   ]
  },
  {
   "cell_type": "markdown",
   "metadata": {},
   "source": [
    "### Person 3"
   ]
  },
  {
   "cell_type": "code",
   "execution_count": 5,
   "metadata": {},
   "outputs": [],
   "source": [
    "person3_name = 'Anthony Clark'\n",
    "person3_age = 60\n",
    "person3_disease = 'recent emigrant'\n",
    "person3_profession = 'laborer'\n",
    "person3_gender = 'm'\n",
    "person3_child_status = 'Charles Riley afed 10 days'"
   ]
  },
  {
   "cell_type": "markdown",
   "metadata": {},
   "source": [
    "### Person 4"
   ]
  },
  {
   "cell_type": "code",
   "execution_count": 6,
   "metadata": {},
   "outputs": [],
   "source": [
    "person4_name = 'Margaret Farrell'\n",
    "person4_age = 30\n",
    "person4_disease = 'recent emigrant'\n",
    "person4_profession = 'widow'\n",
    "person4_gender = 'w'\n",
    "person4_child_status = ''"
   ]
  },
  {
   "cell_type": "markdown",
   "metadata": {},
   "source": [
    "...we can create a *list* of all the Irish immigrants' names and hold them in a single place."
   ]
  },
  {
   "cell_type": "code",
   "execution_count": 7,
   "metadata": {},
   "outputs": [],
   "source": [
    "names = ['Mary Gallagher', 'John Sanin(?)', 'Anthony Clark', 'Margaret Farrell']"
   ]
  },
  {
   "cell_type": "code",
   "execution_count": 8,
   "metadata": {},
   "outputs": [
    {
     "data": {
      "text/plain": [
       "list"
      ]
     },
     "execution_count": 8,
     "metadata": {},
     "output_type": "execute_result"
    }
   ],
   "source": [
    "type(names)"
   ]
  },
  {
   "cell_type": "code",
   "execution_count": 9,
   "metadata": {},
   "outputs": [],
   "source": [
    "ages = [28, 19, 60, 30]"
   ]
  },
  {
   "cell_type": "code",
   "execution_count": 10,
   "metadata": {},
   "outputs": [
    {
     "data": {
      "text/plain": [
       "list"
      ]
     },
     "execution_count": 10,
     "metadata": {},
     "output_type": "execute_result"
    }
   ],
   "source": [
    "type(ages)"
   ]
  },
  {
   "cell_type": "markdown",
   "metadata": {},
   "source": [
    "A list is always enclosed by square brackets `[]` and accepts items in a row separated by commas `,`. A list can contain any combination of Python data types."
   ]
  },
  {
   "cell_type": "markdown",
   "metadata": {},
   "source": [
    "## Index"
   ]
  },
  {
   "cell_type": "markdown",
   "metadata": {},
   "source": [
    "You can index a list just like you would index a string. For example, if we wanted to pull out the first item in our `names` list, we could put square brackets and our desired index number immediately after the list. Just like with strings, the Python index begins with 0."
   ]
  },
  {
   "cell_type": "code",
   "execution_count": 11,
   "metadata": {},
   "outputs": [
    {
     "data": {
      "text/plain": [
       "'Mary Gallagher'"
      ]
     },
     "execution_count": 11,
     "metadata": {},
     "output_type": "execute_result"
    }
   ],
   "source": [
    "names[0]"
   ]
  },
  {
   "cell_type": "code",
   "execution_count": 12,
   "metadata": {},
   "outputs": [
    {
     "data": {
      "text/plain": [
       "'Margaret Farrell'"
      ]
     },
     "execution_count": 12,
     "metadata": {},
     "output_type": "execute_result"
    }
   ],
   "source": [
    "names[3]"
   ]
  },
  {
   "cell_type": "markdown",
   "metadata": {},
   "source": [
    "## Slice"
   ]
  },
  {
   "cell_type": "markdown",
   "metadata": {},
   "source": [
    "You can also slice lists just like you would a string."
   ]
  },
  {
   "cell_type": "code",
   "execution_count": 13,
   "metadata": {},
   "outputs": [
    {
     "data": {
      "text/plain": [
       "['Mary Gallagher', 'John Sanin(?)']"
      ]
     },
     "execution_count": 13,
     "metadata": {},
     "output_type": "execute_result"
    }
   ],
   "source": [
    "names[:2]"
   ]
  },
  {
   "cell_type": "markdown",
   "metadata": {},
   "source": [
    "## List Methods"
   ]
  },
  {
   "cell_type": "markdown",
   "metadata": {},
   "source": [
    "Lists also have a number of special methods that can be used with them, such as a method for adding items to a list, which is an extremely common one."
   ]
  },
  {
   "cell_type": "markdown",
   "metadata": {},
   "source": [
    "| **List Method** | **Explanation**                                                                                   |\n",
    "|-------------|---------------------------------------------------------------------------------------------------|\n",
    "| `list.append(another_item)`          | adds new item to end of list                                                                                |\n",
    "| `list.extend(another_list)`        | adds items from another_list to list                                                |\n",
    "| `list.remove(item)`        | removes first instance of item                                                       |\n",
    "| `list.reverse()`       | reverses order of list                                                                                 |                                                     |"
   ]
  },
  {
   "cell_type": "markdown",
   "metadata": {},
   "source": [
    "### Add Items To List"
   ]
  },
  {
   "cell_type": "code",
   "execution_count": 14,
   "metadata": {},
   "outputs": [],
   "source": [
    "names.append(\"Lawrence Feeney\")"
   ]
  },
  {
   "cell_type": "code",
   "execution_count": 15,
   "metadata": {},
   "outputs": [
    {
     "data": {
      "text/plain": [
       "['Mary Gallagher',\n",
       " 'John Sanin(?)',\n",
       " 'Anthony Clark',\n",
       " 'Margaret Farrell',\n",
       " 'Lawrence Feeney']"
      ]
     },
     "execution_count": 15,
     "metadata": {},
     "output_type": "execute_result"
    }
   ],
   "source": [
    "names"
   ]
  },
  {
   "cell_type": "markdown",
   "metadata": {},
   "source": [
    "### Extend List With Another List"
   ]
  },
  {
   "cell_type": "code",
   "execution_count": 16,
   "metadata": {},
   "outputs": [],
   "source": [
    "names.extend(ages)"
   ]
  },
  {
   "cell_type": "code",
   "execution_count": 17,
   "metadata": {},
   "outputs": [
    {
     "data": {
      "text/plain": [
       "['Mary Gallagher',\n",
       " 'John Sanin(?)',\n",
       " 'Anthony Clark',\n",
       " 'Margaret Farrell',\n",
       " 'Lawrence Feeney',\n",
       " 28,\n",
       " 19,\n",
       " 60,\n",
       " 30]"
      ]
     },
     "execution_count": 17,
     "metadata": {},
     "output_type": "execute_result"
    }
   ],
   "source": [
    "names"
   ]
  },
  {
   "cell_type": "markdown",
   "metadata": {},
   "source": [
    "# For Loops"
   ]
  },
  {
   "cell_type": "markdown",
   "metadata": {},
   "source": [
    "One of the best ways to work with a list is with something called \"`for` loops.\" This is a way of considering each item in the list, also known as \"iterating\" through the list."
   ]
  },
  {
   "cell_type": "code",
   "execution_count": 18,
   "metadata": {},
   "outputs": [],
   "source": [
    "names = ['Mary Gallagher', 'John Sanin(?)', 'Anthony Clark', 'Margaret Farrell']"
   ]
  },
  {
   "cell_type": "code",
   "execution_count": 19,
   "metadata": {},
   "outputs": [
    {
     "name": "stdout",
     "output_type": "stream",
     "text": [
      "Mary Gallagher\n",
      "John Sanin(?)\n",
      "Anthony Clark\n",
      "Margaret Farrell\n"
     ]
    }
   ],
   "source": [
    "for name in names:\n",
    "    print(name)"
   ]
  },
  {
   "cell_type": "markdown",
   "metadata": {},
   "source": [
    "A `for` loop contains the English word `for` followed by a variable name for each item in the list that you want to consider (it could be anything!) followed by the English word in` followed by a colon `:`"
   ]
  },
  {
   "cell_type": "code",
   "execution_count": 20,
   "metadata": {},
   "outputs": [
    {
     "name": "stdout",
     "output_type": "stream",
     "text": [
      "Person's name is Mary Gallagher\n",
      "Person's name is John Sanin(?)\n",
      "Person's name is Anthony Clark\n",
      "Person's name is Margaret Farrell\n"
     ]
    }
   ],
   "source": [
    "for name in names:\n",
    "    print(f\"Person's name is {name}\")"
   ]
  },
  {
   "cell_type": "code",
   "execution_count": 21,
   "metadata": {},
   "outputs": [
    {
     "name": "stdout",
     "output_type": "stream",
     "text": [
      "Person's name is Mary Gallagher\n",
      "Person's name is John Sanin(?)\n",
      "Person's name is Anthony Clark\n",
      "Person's name is Margaret Farrell\n"
     ]
    }
   ],
   "source": [
    "for x in names:\n",
    "    print(f\"Person's name is {x}\")"
   ]
  },
  {
   "cell_type": "code",
   "execution_count": 22,
   "metadata": {},
   "outputs": [],
   "source": [
    "ages = [28, 19, 60, 30]"
   ]
  },
  {
   "cell_type": "code",
   "execution_count": 43,
   "metadata": {},
   "outputs": [
    {
     "name": "stdout",
     "output_type": "stream",
     "text": [
      "Person is more than 30 years old\n",
      "Person is more than 30 years old\n",
      "Person is less than 30 years old\n",
      "Person is more than 30 years old\n"
     ]
    }
   ],
   "source": [
    "for age in ages:\n",
    "    if age > 30:\n",
    "        print(\"Person is less than 30 years old\")\n",
    "    else:\n",
    "        print(\"Person is more than 30 years old\")"
   ]
  },
  {
   "cell_type": "markdown",
   "metadata": {},
   "source": [
    "# Group Exercise / HW Assignment 3 (Part II)"
   ]
  },
  {
   "cell_type": "markdown",
   "metadata": {},
   "source": [
    "### Person 1"
   ]
  },
  {
   "cell_type": "code",
   "execution_count": 134,
   "metadata": {},
   "outputs": [],
   "source": [
    "person1_name = 'Mary Gallagher'\n",
    "person1_age = 28\n",
    "person1_disease = 'recent emigrant'\n",
    "person1_profession = 'married'\n",
    "person1_gender = 'f'\n",
    "person1_child_status = 'Child Alana 10 days'"
   ]
  },
  {
   "cell_type": "markdown",
   "metadata": {},
   "source": [
    "### Person 2"
   ]
  },
  {
   "cell_type": "code",
   "execution_count": 77,
   "metadata": {},
   "outputs": [],
   "source": [
    "person2_name = 'John Sanin(?)'\n",
    "person2_age = 19\n",
    "person2_disease = 'recent emigrant'\n",
    "person2_profession = 'laborer'\n",
    "person2_gender = 'm'\n",
    "person2_child_status = 'Catherine 2 mo'"
   ]
  },
  {
   "cell_type": "markdown",
   "metadata": {},
   "source": [
    "### Person 3"
   ]
  },
  {
   "cell_type": "code",
   "execution_count": null,
   "metadata": {},
   "outputs": [],
   "source": [
    "person3_name = 'Anthony Clark'\n",
    "person3_age = 60\n",
    "person3_disease = 'recent emigrant'\n",
    "person3_profession = 'laborer'\n",
    "person3_gender = 'm'\n",
    "person3_child_status = 'Charles Riley afed 10 days'"
   ]
  },
  {
   "cell_type": "markdown",
   "metadata": {},
   "source": [
    "### Person 4"
   ]
  },
  {
   "cell_type": "code",
   "execution_count": 85,
   "metadata": {},
   "outputs": [],
   "source": [
    "person4_name = 'Margaret Farrell'\n",
    "person4_age = 30\n",
    "person4_disease = 'recent emigrant'\n",
    "person4_profession = 'widow'\n",
    "person4_gender = 'w'\n",
    "person4_child_status = ''"
   ]
  },
  {
   "cell_type": "markdown",
   "metadata": {},
   "source": [
    "**1.** Make a list that contains each of the above Irish immigrants' professions and assign to a variable called `professions`"
   ]
  },
  {
   "cell_type": "code",
   "execution_count": 44,
   "metadata": {},
   "outputs": [],
   "source": [
    "#Your Code Here"
   ]
  },
  {
   "cell_type": "markdown",
   "metadata": {},
   "source": [
    "**2.** Extract the second item in the list `professions`. Hint: remember how the Python index works!"
   ]
  },
  {
   "cell_type": "code",
   "execution_count": 45,
   "metadata": {},
   "outputs": [
    {
     "data": {
      "text/plain": [
       "'laborer'"
      ]
     },
     "execution_count": 45,
     "metadata": {},
     "output_type": "execute_result"
    }
   ],
   "source": [
    "#Your Code Here"
   ]
  },
  {
   "cell_type": "markdown",
   "metadata": {},
   "source": [
    "**3.** Add the item \"spinster\" to your `professions` list, then print the list."
   ]
  },
  {
   "cell_type": "code",
   "execution_count": 46,
   "metadata": {},
   "outputs": [],
   "source": [
    "#Your Code Here"
   ]
  },
  {
   "cell_type": "code",
   "execution_count": 48,
   "metadata": {},
   "outputs": [
    {
     "name": "stdout",
     "output_type": "stream",
     "text": [
      "['married', 'laborer', 'laborer', 'widow', 'spinster']\n"
     ]
    }
   ],
   "source": [
    "#Your Code Here"
   ]
  },
  {
   "cell_type": "markdown",
   "metadata": {},
   "source": [
    "**4.** Make a `for` loop that considers each item in the `professions` list and prints \"Person's profession is ___\""
   ]
  },
  {
   "cell_type": "code",
   "execution_count": 49,
   "metadata": {},
   "outputs": [
    {
     "name": "stdout",
     "output_type": "stream",
     "text": [
      "Person's profession is married\n",
      "Person's profession is laborer\n",
      "Person's profession is laborer\n",
      "Person's profession is widow\n",
      "Person's profession is spinster\n"
     ]
    }
   ],
   "source": [
    "#Your Code Here\n",
    "    #Your Code Here"
   ]
  },
  {
   "cell_type": "markdown",
   "metadata": {},
   "source": [
    "**5.** Make a list that contains each of the above Irish immigrants' child statuses and assign to a variable called `child_status`. You can make Margaret Farrell's child status an empty string `''`."
   ]
  },
  {
   "cell_type": "code",
   "execution_count": 57,
   "metadata": {},
   "outputs": [],
   "source": [
    "#Your Code Here"
   ]
  },
  {
   "cell_type": "markdown",
   "metadata": {},
   "source": [
    "**6.** Extract the third item in the list."
   ]
  },
  {
   "cell_type": "code",
   "execution_count": 58,
   "metadata": {},
   "outputs": [
    {
     "data": {
      "text/plain": [
       "'Charles Riley afed 10 days'"
      ]
     },
     "execution_count": 58,
     "metadata": {},
     "output_type": "execute_result"
    }
   ],
   "source": [
    "#Your Code Here"
   ]
  },
  {
   "cell_type": "markdown",
   "metadata": {},
   "source": [
    "**7.** Make a `for` loop that considers each item in the `child_status` list and prints \"Person has child\" if the person has a child and \"Person does not have child\" if not"
   ]
  },
  {
   "cell_type": "code",
   "execution_count": 59,
   "metadata": {},
   "outputs": [
    {
     "name": "stdout",
     "output_type": "stream",
     "text": [
      "Person has child\n",
      "Person has child\n",
      "Person has child\n",
      "Person does not have child\n"
     ]
    }
   ],
   "source": [
    "#Your Code Here\n",
    "  #Your Code Here\n",
    "       #Your Code Here\n",
    "    #Your Code Here\n",
    "        #Your Code Here"
   ]
  },
  {
   "cell_type": "markdown",
   "metadata": {},
   "source": [
    "**8.** Make a list that contains each of the above Irish immigrants' genders and assign to a variable called `gender`"
   ]
  },
  {
   "cell_type": "code",
   "execution_count": 24,
   "metadata": {},
   "outputs": [],
   "source": [
    "#Your Code Here"
   ]
  },
  {
   "cell_type": "markdown",
   "metadata": {},
   "source": [
    "**9.** Add an item to the list called \"not known\""
   ]
  },
  {
   "cell_type": "code",
   "execution_count": 26,
   "metadata": {},
   "outputs": [],
   "source": [
    "#Your Code Here"
   ]
  },
  {
   "cell_type": "markdown",
   "metadata": {},
   "source": [
    "**10.** Make a `for` loop that considers each item in the `gender` list and prints \"Person is male\" if the person is male, \"Person is female\" if the person is female, and \"Person's gender is not known\" if unknown"
   ]
  },
  {
   "cell_type": "code",
   "execution_count": 27,
   "metadata": {},
   "outputs": [
    {
     "name": "stdout",
     "output_type": "stream",
     "text": [
      "Person is female\n",
      "Person is male\n",
      "Person is male\n",
      "Person's gender is not known\n"
     ]
    }
   ],
   "source": [
    " #Your Code Here\n",
    "     #Your Code Here\n",
    "         #Your Code Here\n",
    "     #Your Code Here\n",
    "         #Your Code Here\n",
    "     #Your Code Here\n",
    "         #Your Code Here"
   ]
  }
 ],
 "metadata": {
  "kernelspec": {
   "display_name": "Python 3",
   "language": "python",
   "name": "python3"
  },
  "language_info": {
   "codemirror_mode": {
    "name": "ipython",
    "version": 3
   },
   "file_extension": ".py",
   "mimetype": "text/x-python",
   "name": "python",
   "nbconvert_exporter": "python",
   "pygments_lexer": "ipython3",
   "version": "3.7.5"
  }
 },
 "nbformat": 4,
 "nbformat_minor": 4
}
